{
 "cells": [
  {
   "cell_type": "markdown",
   "id": "430dacfb",
   "metadata": {},
   "source": [
    "# Part 2: Search Uniprot for GO terms"
   ]
  },
  {
   "cell_type": "markdown",
   "id": "f45cfe5a",
   "metadata": {},
   "source": [
    " Say you have a list of genes and you need to perform Gene Ontology using Uniprot and save in .csv file. You can use the following code to extract GO terms from Uniprot. This code helps to search GO terms for many genes at a time."
   ]
  },
  {
   "cell_type": "code",
   "execution_count": null,
   "id": "642d5bda",
   "metadata": {},
   "outputs": [],
   "source": [
    "#Search uniprot for each accession number and retrieve GO terms for individual ID\n",
    "#This is an example for one ID\n",
    "def get_go_terms(uniprot_id):\n",
    "    url = f\"https://www.uniprot.org/uniprot/{uniprot_id}.txt\"\n",
    "    response = requests.get(url)\n",
    "    if response.ok:\n",
    "        content = response.text.strip().split(\"\\n\")\n",
    "        go_terms = []\n",
    "        for line in content:\n",
    "            if line.startswith(\"DR   GO;\"):\n",
    "                go_info = line.split(\";\")[1:]\n",
    "                aspect = go_info[0].strip()\n",
    "                term = go_info[1].strip()\n",
    "                go_terms.append({\"Aspect\": aspect, \"Term\": term})\n",
    "        return go_terms\n",
    "    return None\n",
    "\n",
    "uniprot_id = 'P60010', 'P00330', 'P00924', 'P00924', 'P00358', 'P02829', 'P00549', 'P00692', 'P00950', 'P00359' \n",
    "go_terms = get_go_terms(uniprot_id)\n",
    "if go_terms:\n",
    "    print(f\"UniProt ID: {uniprot_id}\")\n",
    "    for term in go_terms:\n",
    "        print(f\"Aspect: {term['Aspect']}, Term: {term['Term']}\")\n",
    "else:\n",
    "    print(f\"No GO terms found for UniProt ID {uniprot_id}\")"
   ]
  },
  {
   "cell_type": "code",
   "execution_count": null,
   "id": "667803c1",
   "metadata": {},
   "outputs": [],
   "source": [
    "#Search uniprot for each accession number and retrieve GO terms for multiple IDs at once, using the above format\n",
    "def get_go_terms(uniprot_ids):\n",
    "    go_terms = []\n",
    "    for uniprot_id in uniprot_ids:\n",
    "        uniprot_id = uniprot_id.strip(\"' \")  # Remove single quotes and spaces from each UniProt ID\n",
    "        url = f\"https://www.uniprot.org/uniprot/{uniprot_id}.txt\"\n",
    "        response = requests.get(url)\n",
    "        if response.ok:\n",
    "            content = response.text.strip().split(\"\\n\")\n",
    "            has_go_terms = False  # Flag to track if GO terms are found for the current UniProt ID\n",
    "            for line in content:\n",
    "                if line.startswith(\"DR   GO;\"):0\n",
    "                    has_go_terms = True\n",
    "                    go_info = line.split(\";\")[1:]\n",
    "                    aspect = go_info[0].strip()\n",
    "                    term = go_info[1].strip()\n",
    "                    go_terms.append({\"UniProt ID\": uniprot_id, \"Aspect\": aspect, \"Term\": term})\n",
    "            if not has_go_terms:\n",
    "                go_terms.append({\"UniProt ID\": uniprot_id, \"Aspect\": \"N/A\", \"Term\": \"No GO terms found\"})\n",
    "        else:\n",
    "            go_terms.append({\"UniProt ID\": uniprot_id, \"Aspect\": \"N/A\", \"Term\": \"Request failed\"})\n",
    "\n",
    "    return go_terms\n",
    "\n",
    "uniprot_ids = ['A0A0W0CZH5']\n",
    "go_terms = get_go_terms(uniprot_ids)\n",
    "\n",
    "if go_terms:\n",
    "    df = pd.DataFrame(go_terms)\n",
    "    print(df)\n",
    "else:\n",
    "    print(\"No UniProt IDs provided.\")\n"
   ]
  },
  {
   "cell_type": "code",
   "execution_count": null,
   "id": "43d221f6",
   "metadata": {},
   "outputs": [],
   "source": [
    "#save the output in new .csv file\n",
    "output_file_path = '/terms_uniprot.csv'  \n",
    "df.to_csv(output_file_path, index=False)\n",
    "\n",
    "print(\"CSV file saved successfully.\")"
   ]
  },
  {
   "cell_type": "code",
   "execution_count": null,
   "id": "34c30a8b",
   "metadata": {},
   "outputs": [],
   "source": [
    "#combine CC, BP, MF, into one cell\n",
    "#example\n",
    "input_string = '''\n",
    "'''\n",
    "\n",
    "# Split the input string by newline character and strip any leading/trailing whitespaces\n",
    "split_values = [value.strip() for value in input_string.split('\\n')]\n",
    "\n",
    "# Join the split values with ', ' in between and enclose them in single quotes\n",
    "result_string = ', '.join([f\"'{value}'\" for value in split_values])\n",
    "\n",
    "print(result_string)"
   ]
  },
  {
   "cell_type": "code",
   "execution_count": null,
   "id": "198c0a42",
   "metadata": {},
   "outputs": [],
   "source": [
    "#use the above example, but applied to .csv files\n",
    "def convert_format(input_file, output_file):\n",
    "    converted_data = {}\n",
    "    \n",
    "    with open(input_file, 'r') as file:\n",
    "        reader = csv.reader(file)\n",
    "        for row in reader:\n",
    "            uniprot_id = row[0]\n",
    "            go_id = row[1]\n",
    "            category = row[2]\n",
    "            term = row[3]\n",
    "            \n",
    "            if uniprot_id not in converted_data:\n",
    "                converted_data[uniprot_id] = {'C': [], 'F': [], 'P': []}\n",
    "            \n",
    "            if category == 'C':\n",
    "                converted_data[uniprot_id]['C'].append(term)\n",
    "            elif category == 'F':\n",
    "                converted_data[uniprot_id]['F'].append(term)\n",
    "            elif category == 'P':\n",
    "                converted_data[uniprot_id]['P'].append(term)\n",
    "    \n",
    "    with open(output_file, 'w', newline='') as file:\n",
    "        writer = csv.writer(file)\n",
    "        writer.writerow(['', 'C', 'F', 'P'])\n",
    "        \n",
    "        for uniprot_id, terms in converted_data.items():\n",
    "            row = [uniprot_id] + [\"'\" + ', '.join(terms[key]) + \"'\" for key in ['C', 'F', 'P']]\n",
    "            writer.writerow(row)\n",
    "\n",
    "# Example usage\n",
    "input_file = '/GO terms_uniprot.csv' \n",
    "output_file = \"/GO_Terms_Output.csv\"\n",
    "convert_format(input_file, output_file)\n",
    "\n",
    "print(\"CSV file saved successfully.\")"
   ]
  }
 ],
 "metadata": {
  "kernelspec": {
   "display_name": "Python 3 (ipykernel)",
   "language": "python",
   "name": "python3"
  },
  "language_info": {
   "codemirror_mode": {
    "name": "ipython",
    "version": 3
   },
   "file_extension": ".py",
   "mimetype": "text/x-python",
   "name": "python",
   "nbconvert_exporter": "python",
   "pygments_lexer": "ipython3",
   "version": "3.8.8"
  }
 },
 "nbformat": 4,
 "nbformat_minor": 5
}
